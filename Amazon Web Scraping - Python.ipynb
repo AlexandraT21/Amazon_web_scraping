{
 "cells": [
  {
   "cell_type": "code",
   "execution_count": 9,
   "metadata": {},
   "outputs": [],
   "source": [
    "from bs4 import BeautifulSoup\n",
    "import requests\n",
    "import smtplib\n",
    "import time\n",
    "import datetime\n",
    "import csv\n",
    "import pandas as pd"
   ]
  },
  {
   "cell_type": "code",
   "execution_count": 11,
   "metadata": {},
   "outputs": [
    {
     "name": "stdout",
     "output_type": "stream",
     "text": [
      "\n",
      "                    Avoid The Top Of The Bell Curve Mean - Funny Data Analyst T-Shirt\n",
      "                   \n",
      "\n",
      "                    $16.99\n",
      "                   \n"
     ]
    }
   ],
   "source": [
    "#get our url\n",
    "url = \"https://www.amazon.com/Avoid-Curve-Analyst-Scientist-T-Shirt/dp/B08K7ZNXHV/ref=sr_1_13?crid=2ZST1EHPVHTDW&keywords=data%2Banalyst&psr=EY17&qid=1704784386&s=todays-deals&sprefix=data%2Banalys%2Ctodays-deals%2C471&sr=1-13-catcorr&customId=B07537H5TD&customizationToken=MC_Assembly_1%23B07537H5TD&th=1&psc=1\"\"Amazon Web Scraping - Python.ipynb\"\n",
    "\n",
    "headers = {\"User-Agent\": \"Mozilla/5.0 (Windows NT 10.0; Win64; x64) AppleWebKit/537.36 (KHTML, like Gecko) Chrome/120.0.0.0 Safari/537.36\",\n",
    "           \"Accept-Encoding\": \"gzip, deflate, br\", \n",
    "           \"Accept\": \"text/html,application/xhtml+xml,application/xml;q=0.9,image/avif,image/webp,image/apng,*/*;q=0.8,application/signed-exchange;v=b3;q=0.7\",\n",
    "           \"Upgrade-Insecure-Requests\": \"1\",}\n",
    "\n",
    "page = requests.get(url, headers=headers)\n",
    "\n",
    "soup1 = BeautifulSoup(page.content, \"html.parser\")\n",
    "soup2 = BeautifulSoup(soup1.prettify(), \"html.parser\")\n",
    "\n",
    "title = soup2.find(id = \"productTitle\").get_text()\n",
    "print(title)\n",
    "\n",
    "price = soup2.find(id = \"corePriceDisplay_desktop_feature_div\").find(\"span\", {\"class\" : \"aok-offscreen\"}).get_text()\n",
    "print(price)\n"
   ]
  },
  {
   "cell_type": "code",
   "execution_count": 12,
   "metadata": {},
   "outputs": [
    {
     "name": "stdout",
     "output_type": "stream",
     "text": [
      "Avoid The Top Of The Bell Curve Mean - Funny Data Analyst T-Shirt\n",
      "16.99\n",
      "2024-01-09\n"
     ]
    }
   ],
   "source": [
    "title = title.strip()\n",
    "print(title)\n",
    "\n",
    "price = price.strip()[1: ]\n",
    "print(price)\n",
    "\n",
    "today = datetime.date.today()\n",
    "print(today)"
   ]
  },
  {
   "cell_type": "code",
   "execution_count": 13,
   "metadata": {},
   "outputs": [],
   "source": [
    "#create our csv file \n",
    "\n",
    "header = [\"Title\", \"Price\", \"Date\"]\n",
    "data = [title, price, today]\n",
    "\n",
    "with open(\"Amazon_t-shirt_dataset.csv\", \"w\", newline = \"\", encoding= \"UTF8\") as f:\n",
    "   writer = csv.writer(f)\n",
    "   writer.writerow(header)\n",
    "   writer.writerow(data)"
   ]
  },
  {
   "cell_type": "code",
   "execution_count": 14,
   "metadata": {},
   "outputs": [
    {
     "data": {
      "text/html": [
       "<div>\n",
       "<style scoped>\n",
       "    .dataframe tbody tr th:only-of-type {\n",
       "        vertical-align: middle;\n",
       "    }\n",
       "\n",
       "    .dataframe tbody tr th {\n",
       "        vertical-align: top;\n",
       "    }\n",
       "\n",
       "    .dataframe thead th {\n",
       "        text-align: right;\n",
       "    }\n",
       "</style>\n",
       "<table border=\"1\" class=\"dataframe\">\n",
       "  <thead>\n",
       "    <tr style=\"text-align: right;\">\n",
       "      <th></th>\n",
       "      <th>Title</th>\n",
       "      <th>Price</th>\n",
       "      <th>Date</th>\n",
       "    </tr>\n",
       "  </thead>\n",
       "  <tbody>\n",
       "    <tr>\n",
       "      <th>0</th>\n",
       "      <td>Avoid The Top Of The Bell Curve Mean - Funny D...</td>\n",
       "      <td>16.99</td>\n",
       "      <td>2024-01-09</td>\n",
       "    </tr>\n",
       "  </tbody>\n",
       "</table>\n",
       "</div>"
      ],
      "text/plain": [
       "                                               Title  Price        Date\n",
       "0  Avoid The Top Of The Bell Curve Mean - Funny D...  16.99  2024-01-09"
      ]
     },
     "execution_count": 14,
     "metadata": {},
     "output_type": "execute_result"
    }
   ],
   "source": [
    "df = pd.read_csv(\"Amazon_t-shirt_dataset.csv\")\n",
    "df"
   ]
  },
  {
   "cell_type": "code",
   "execution_count": 15,
   "metadata": {},
   "outputs": [],
   "source": [
    "#add data to our scv\n",
    "\n",
    "with open(\"Amazon_t-shirt_dataset.csv\", \"a+\", newline = \"\", encoding= \"UTF8\") as f:\n",
    "   writer = csv.writer(f)\n",
    "   writer.writerow(header)\n",
    "   writer.writerow(data)"
   ]
  },
  {
   "cell_type": "code",
   "execution_count": 16,
   "metadata": {},
   "outputs": [],
   "source": [
    "def send_mail():\n",
    "    server = smtplib.SMTP_SSL('smtp.gmail.com',465)\n",
    "    server.ehlo()\n",
    "    #server.starttls()\n",
    "    server.ehlo()\n",
    "    server.login('YourMailAddress@gmail.com','xxxxxxxxxxxxxx')\n",
    "    \n",
    "    subject = \"The Shirt you want is below $14! Now is your chance to buy!\"\n",
    "    body = \"Now is your chance to pick up the shirt of your dreams. Don't mess it up! Link here: https://www.amazon.com/Avoid-Curve-Analyst-Scientist-T-Shirt/dp/B08K7ZNXHV/ref=sr_1_13?crid=2ZST1EHPVHTDW&keywords=data%2Banalyst&psr=EY17&qid=1704784386&s=todays-deals&sprefix=data%2Banalys%2Ctodays-deals%2C471&sr=1-13-catcorr&customId=B07537H5TD&customizationToken=MC_Assembly_1%23B07537H5TD&th=1&psc=1\"\n",
    "    msg = f\"Subject: {subject}\\n\\n{body}\"\n",
    "    \n",
    "    server.sendmail(\n",
    "        'YourMailAddress@gmail.com',\n",
    "        msg\n",
    "     \n",
    "    )"
   ]
  },
  {
   "cell_type": "code",
   "execution_count": 17,
   "metadata": {},
   "outputs": [],
   "source": [
    "def check_price():\n",
    "   url = \"https://www.amazon.com/Avoid-Curve-Analyst-Scientist-T-Shirt/dp/B08K7ZNXHV/ref=sr_1_13?crid=2ZST1EHPVHTDW&keywords=data%2Banalyst&psr=EY17&qid=1704784386&s=todays-deals&sprefix=data%2Banalys%2Ctodays-deals%2C471&sr=1-13-catcorr&customId=B07537H5TD&customizationToken=MC_Assembly_1%23B07537H5TD&th=1&psc=1\"\n",
    "   \n",
    "   headers = {\"User-Agent\": \"Mozilla/5.0 (Windows NT 10.0; Win64; x64) AppleWebKit/537.36 (KHTML, like Gecko) Chrome/120.0.0.0 Safari/537.36\",\n",
    "           \"Accept-Encoding\": \"gzip, deflate, br\", \n",
    "           \"Accept\": \"text/html,application/xhtml+xml,application/xml;q=0.9,image/avif,image/webp,image/apng,*/*;q=0.8,application/signed-exchange;v=b3;q=0.7\",\n",
    "           \"Upgrade-Insecure-Requests\": \"1\",}\n",
    "   \n",
    "   page = requests.get(url, headers=headers)\n",
    "   \n",
    "   soup1 = BeautifulSoup(page.content, \"html.parser\")\n",
    "   soup2 = BeautifulSoup(soup1.prettify(), \"html.parser\")\n",
    "\n",
    "   title = soup2.find(id = \"productTitle\").get_text()\n",
    "   price = soup2.find(id = \"corePriceDisplay_desktop_feature_div\").find(\"span\", {\"class\" : \"aok-offscreen\"}).get_text()\n",
    "   \n",
    "   \n",
    "   title = title.strip()\n",
    "   print(title)\n",
    "\n",
    "   price = price.strip()[1: ]\n",
    "   print(price)\n",
    "\n",
    "   today = datetime.date.today()\n",
    "   print(today)\n",
    "   \n",
    "   \n",
    "   header = [\"Title\", \"Price\", \"Date\"]\n",
    "   data = [title, price, today]\n",
    "   \n",
    "   with open(\"Amazon_t-shirt_dataset.csv\", \"a+\", newline = \"\", encoding= \"UTF8\") as f:\n",
    "        writer = csv.writer(f)\n",
    "        writer.writerow(header)\n",
    "        writer.writerow(data)\n",
    "        \n",
    "   if (price < 14):\n",
    "        send_mail() \n",
    "   "
   ]
  },
  {
   "cell_type": "code",
   "execution_count": null,
   "metadata": {},
   "outputs": [],
   "source": [
    "#You can turn this on to check the price and have an email\n",
    "\n",
    "while(True):\n",
    "   check_price()\n",
    "   time.sleep(86400) #every 24 hours"
   ]
  }
 ],
 "metadata": {
  "kernelspec": {
   "display_name": "Python 3",
   "language": "python",
   "name": "python3"
  },
  "language_info": {
   "codemirror_mode": {
    "name": "ipython",
    "version": 3
   },
   "file_extension": ".py",
   "mimetype": "text/x-python",
   "name": "python",
   "nbconvert_exporter": "python",
   "pygments_lexer": "ipython3",
   "version": "3.11.4"
  }
 },
 "nbformat": 4,
 "nbformat_minor": 2
}
